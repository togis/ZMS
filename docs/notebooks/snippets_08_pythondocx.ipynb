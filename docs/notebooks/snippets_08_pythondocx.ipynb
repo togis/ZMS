{
 "cells": [
  {
   "attachments": {},
   "cell_type": "markdown",
   "metadata": {},
   "source": [
    "# Applying python-docx to ZMS content"
   ]
  },
  {
   "cell_type": "code",
   "execution_count": 10,
   "metadata": {},
   "outputs": [
    {
     "data": {
      "text/plain": [
       "'/home/zope/src/zms-publishing/ZMS5/docs/notebooks'"
      ]
     },
     "execution_count": 10,
     "metadata": {},
     "output_type": "execute_result"
    }
   ],
   "source": [
    "import ZODB\n",
    "import os\n",
    "from Products.Five.browser.tests.pages import SimpleView\n",
    "from Testing.makerequest import makerequest \t\t\t\t\t\t\t# makerequest(context)\n",
    "from Testing.ZopeTestCase.testZODBCompat import make_request_response \t# make_request_response()[1]\n",
    "from Acquisition import aq_get\n",
    "from Products.zms import standard\n",
    "from Products.zms import rest_api\n",
    "import json\n",
    "\n",
    "os.getcwd()"
   ]
  },
  {
   "cell_type": "code",
   "execution_count": 11,
   "metadata": {},
   "outputs": [
    {
     "name": "stdout",
     "output_type": "stream",
     "text": [
      "Error: Database connection had to be closed before reopened.\n"
     ]
    }
   ],
   "source": [
    "# Create a ZODB connection to an existing ZODB database file\n",
    "try:\n",
    "\twd = '/home/zope/instance/zms5_dev/var/'\n",
    "\tdb = ZODB.DB(os.path.join(wd, 'Data.fs'))\n",
    "\tconn = db.open()\n",
    "\troot = conn.root\n",
    "\t###{'Application': <Application at >}\n",
    "except:\n",
    "\tdb.close()\n",
    "\tprint('Error: Database connection had to be closed before reopened.')"
   ]
  },
  {
   "cell_type": "code",
   "execution_count": 12,
   "metadata": {},
   "outputs": [
    {
     "name": "stdout",
     "output_type": "stream",
     "text": [
      "{\n",
      "  \"id\": \"e5\",\n",
      "  \"meta_id\": \"ZMSFolder\",\n",
      "  \"uid\": \"uid:60b30ef7-4e7d-4926-9309-c454906f6957\",\n",
      "  \"getPath\": \"/myzms2/content/e5\",\n",
      "  \"active\": 1,\n",
      "  \"title\": \"News about the ZMS concept\",\n",
      "  \"titlealt\": \"News\",\n",
      "  \"is_page\": true,\n",
      "  \"is_page_element\": false,\n",
      "  \"index_html\": \"./../../../../../../../myzms2/content/e5\",\n",
      "  \"parent_uid\": \"uid:4b46b796-d146-43c1-8eca-954d1ba2aafc\",\n",
      "  \"home_id\": \"myzms2\",\n",
      "  \"level\": 1,\n",
      "  \"restricted\": false,\n",
      "  \"titleimage\": null,\n",
      "  \"levelnfc\": \"\",\n",
      "  \"attr_dc_description\": \"Lorem ipsum dolor sit amet. Lorem ipsum dolor sit amet, consetetur sadipscing elitr, sed diam nonumy eirmod tempor invidunt ut labore et dolore magna aliquyam erat, sed diam voluptua. At vero eos et accusa\",\n",
      "  \"attr_dc_subject\": \"\",\n",
      "  \"attr_dc_type\": \"\",\n",
      "  \"attr_dc_creator\": \"\"\n",
      "}\n"
     ]
    }
   ],
   "source": [
    "# ZMS-Node /myzms2/content\n",
    "context = root.Application.myzms2.content \n",
    "# ##############################################\n",
    "# Add REQUEST to zmscontext object\n",
    "context = makerequest(context)\n",
    "# Add REQUEST vars\n",
    "context.REQUEST.set('lang','ger')\n",
    "context.REQUEST.set('path_to_handle','')\n",
    "# Add RESPONSE\n",
    "context.REQUEST.set('RESPONSE', make_request_response()[1])\n",
    "# ##############################################\n",
    "zmscontext = context.e5\n",
    "request = rest_api._get_request(zmscontext)\n",
    "\n",
    "# tree_nodes = rest_api.RestApiController(context,request).list_tree_nodes(zmscontext)[0:1]\n",
    "\n",
    "doc = rest_api.get_attrs(zmscontext)\n",
    "print(json.dumps(doc,indent=2))"
   ]
  },
  {
   "cell_type": "code",
   "execution_count": 13,
   "metadata": {},
   "outputs": [
    {
     "name": "stdout",
     "output_type": "stream",
     "text": [
      "zmscontext.title =  News about the ZMS concept\n",
      "content.title    =  ZMS - Python-based contentmanagement system for science, technology and medicine\n"
     ]
    }
   ],
   "source": [
    "print('zmscontext.title = ', zmscontext.attr('title'))\n",
    "print('content.title    = ', aq_get(zmscontext,'content').attr('title'))"
   ]
  },
  {
   "cell_type": "code",
   "execution_count": 14,
   "metadata": {},
   "outputs": [
    {
     "ename": "LocationError",
     "evalue": "('No traversable adapter found', {'zmscontext': <Products.zms.zmscustom.ZMSCustom object at 0x7fa4163f15f0 oid 0x14252 in <Connection at 7fa416eb2520>>, 'args': ()})",
     "output_type": "error",
     "traceback": [
      "\u001b[0;31m---------------------------------------------------------------------------\u001b[0m",
      "\u001b[0;31mLocationError\u001b[0m                             Traceback (most recent call last)",
      "Cell \u001b[0;32mIn[14], line 1\u001b[0m\n\u001b[0;32m----> 1\u001b[0m \u001b[43mzmscontext\u001b[49m\u001b[38;5;241;43m.\u001b[39;49m\u001b[43mgetBodyContent\u001b[49m\u001b[43m(\u001b[49m\u001b[43mcontext\u001b[49m\u001b[38;5;241;43m.\u001b[39;49m\u001b[43mREQUEST\u001b[49m\u001b[43m)\u001b[49m\n",
      "File \u001b[0;32m~/src/zms-publishing/ZMS5/Products/zms/zmsobject.py:1304\u001b[0m, in \u001b[0;36mZMSObject.getBodyContent\u001b[0;34m(self, REQUEST, forced)\u001b[0m\n\u001b[1;32m   1302\u001b[0m html \u001b[38;5;241m=\u001b[39m \u001b[38;5;124m'\u001b[39m\u001b[38;5;124m'\u001b[39m\n\u001b[1;32m   1303\u001b[0m \u001b[38;5;28;01mif\u001b[39;00m forced \u001b[38;5;129;01mor\u001b[39;00m \u001b[38;5;28mself\u001b[39m\u001b[38;5;241m.\u001b[39misVisible( REQUEST):\n\u001b[0;32m-> 1304\u001b[0m   html \u001b[38;5;241m=\u001b[39m \u001b[38;5;28;43mself\u001b[39;49m\u001b[38;5;241;43m.\u001b[39;49m\u001b[43m_getBodyContent\u001b[49m\u001b[43m(\u001b[49m\u001b[43m \u001b[49m\u001b[43mREQUEST\u001b[49m\u001b[43m)\u001b[49m\n\u001b[1;32m   1305\u001b[0m   \u001b[38;5;66;03m# Process custom hook.\u001b[39;00m\n\u001b[1;32m   1306\u001b[0m   name \u001b[38;5;241m=\u001b[39m \u001b[38;5;124m'\u001b[39m\u001b[38;5;124mgetCustomBodyContent\u001b[39m\u001b[38;5;124m'\u001b[39m\n",
      "File \u001b[0;32m~/src/zms-publishing/ZMS5/Products/zms/zmsobject.py:1291\u001b[0m, in \u001b[0;36mZMSObject._getBodyContent\u001b[0;34m(self, REQUEST)\u001b[0m\n\u001b[1;32m   1290\u001b[0m \u001b[38;5;28;01mdef\u001b[39;00m \u001b[38;5;21m_getBodyContent\u001b[39m(\u001b[38;5;28mself\u001b[39m, REQUEST):\n\u001b[0;32m-> 1291\u001b[0m   rtn \u001b[38;5;241m=\u001b[39m \u001b[38;5;28mself\u001b[39m\u001b[38;5;241m.\u001b[39m_getBodyContentContentEditable(\u001b[38;5;28;43mself\u001b[39;49m\u001b[38;5;241;43m.\u001b[39;49m\u001b[43mmetaobj_manager\u001b[49m\u001b[38;5;241;43m.\u001b[39;49m\u001b[43mrenderTemplate\u001b[49m\u001b[43m(\u001b[49m\u001b[43m \u001b[49m\u001b[38;5;28;43mself\u001b[39;49m\u001b[43m)\u001b[49m)\n\u001b[1;32m   1292\u001b[0m   \u001b[38;5;28;01mreturn\u001b[39;00m rtn\n",
      "File \u001b[0;32m~/src/zms-publishing/ZMS5/Products/zms/ZMSMetaobjManager.py:424\u001b[0m, in \u001b[0;36mZMSMetaobjManager.renderTemplate\u001b[0;34m(self, obj)\u001b[0m\n\u001b[1;32m    422\u001b[0m \u001b[38;5;28;01mif\u001b[39;00m tmpltId \u001b[38;5;129;01min\u001b[39;00m obj\u001b[38;5;241m.\u001b[39mgetMetaobjAttrIds(\u001b[38;5;28mid\u001b[39m):\n\u001b[1;32m    423\u001b[0m   \u001b[38;5;28;01mif\u001b[39;00m obj\u001b[38;5;241m.\u001b[39mgetMetaobjAttr(\u001b[38;5;28mid\u001b[39m, tmpltId)[\u001b[38;5;124m'\u001b[39m\u001b[38;5;124mtype\u001b[39m\u001b[38;5;124m'\u001b[39m] \u001b[38;5;129;01min\u001b[39;00m [\u001b[38;5;124m'\u001b[39m\u001b[38;5;124mmethod\u001b[39m\u001b[38;5;124m'\u001b[39m, \u001b[38;5;124m'\u001b[39m\u001b[38;5;124mpy\u001b[39m\u001b[38;5;124m'\u001b[39m, \u001b[38;5;124m'\u001b[39m\u001b[38;5;124mzpt\u001b[39m\u001b[38;5;124m'\u001b[39m]:\n\u001b[0;32m--> 424\u001b[0m     v \u001b[38;5;241m=\u001b[39m \u001b[43mobj\u001b[49m\u001b[38;5;241;43m.\u001b[39;49m\u001b[43mattr\u001b[49m\u001b[43m(\u001b[49m\u001b[43mtmpltId\u001b[49m\u001b[43m)\u001b[49m\n\u001b[1;32m    425\u001b[0m     \u001b[38;5;28;01mbreak\u001b[39;00m\n\u001b[1;32m    426\u001b[0m   \u001b[38;5;28;01melif\u001b[39;00m tmpltId \u001b[38;5;129;01mnot\u001b[39;00m \u001b[38;5;129;01min\u001b[39;00m [\u001b[38;5;124m\"\u001b[39m\u001b[38;5;124mstandard_html\u001b[39m\u001b[38;5;124m\"\u001b[39m]:\n",
      "File \u001b[0;32m~/src/zms-publishing/ZMS5/Products/zms/_objattrs.py:600\u001b[0m, in \u001b[0;36mObjAttrs.attr\u001b[0;34m(self, *args, **kwargs)\u001b[0m\n\u001b[1;32m    598\u001b[0m request \u001b[38;5;241m=\u001b[39m kwargs\u001b[38;5;241m.\u001b[39mget(\u001b[38;5;124m'\u001b[39m\u001b[38;5;124mrequest\u001b[39m\u001b[38;5;124m'\u001b[39m,kwargs\u001b[38;5;241m.\u001b[39mget(\u001b[38;5;124m'\u001b[39m\u001b[38;5;124mREQUEST\u001b[39m\u001b[38;5;124m'\u001b[39m,\u001b[38;5;28mself\u001b[39m\u001b[38;5;241m.\u001b[39mREQUEST))\n\u001b[1;32m    599\u001b[0m \u001b[38;5;28;01mif\u001b[39;00m \u001b[38;5;28mlen\u001b[39m(args) \u001b[38;5;241m==\u001b[39m \u001b[38;5;241m1\u001b[39m \u001b[38;5;129;01mand\u001b[39;00m \u001b[38;5;28misinstance\u001b[39m(args[\u001b[38;5;241m0\u001b[39m], \u001b[38;5;28mstr\u001b[39m):\n\u001b[0;32m--> 600\u001b[0m   \u001b[38;5;28;01mreturn\u001b[39;00m \u001b[38;5;28;43mself\u001b[39;49m\u001b[38;5;241;43m.\u001b[39;49m\u001b[43mgetObjProperty\u001b[49m\u001b[43m(\u001b[49m\u001b[43m \u001b[49m\u001b[43margs\u001b[49m\u001b[43m[\u001b[49m\u001b[38;5;241;43m0\u001b[39;49m\u001b[43m]\u001b[49m\u001b[43m,\u001b[49m\u001b[43m \u001b[49m\u001b[43mrequest\u001b[49m\u001b[43m,\u001b[49m\u001b[43m \u001b[49m\u001b[43mkwargs\u001b[49m\u001b[43m)\u001b[49m\n\u001b[1;32m    601\u001b[0m \u001b[38;5;28;01melif\u001b[39;00m \u001b[38;5;28mlen\u001b[39m(args) \u001b[38;5;241m==\u001b[39m \u001b[38;5;241m2\u001b[39m:\n\u001b[1;32m    602\u001b[0m   \u001b[38;5;28mself\u001b[39m\u001b[38;5;241m.\u001b[39msetObjProperty( args[\u001b[38;5;241m0\u001b[39m], args[\u001b[38;5;241m1\u001b[39m], request\u001b[38;5;241m.\u001b[39mget(\u001b[38;5;124m'\u001b[39m\u001b[38;5;124mlang\u001b[39m\u001b[38;5;124m'\u001b[39m))\n",
      "File \u001b[0;32m~/src/zms-publishing/ZMS5/Products/zms/_objattrs.py:562\u001b[0m, in \u001b[0;36mObjAttrs.getObjProperty\u001b[0;34m(self, key, REQUEST, par)\u001b[0m\n\u001b[1;32m    560\u001b[0m \u001b[38;5;66;03m# Special attributes.\u001b[39;00m\n\u001b[1;32m    561\u001b[0m \u001b[38;5;28;01mif\u001b[39;00m key \u001b[38;5;129;01mnot\u001b[39;00m \u001b[38;5;129;01min\u001b[39;00m obj_attrs\u001b[38;5;241m.\u001b[39mkeys():\n\u001b[0;32m--> 562\u001b[0m   value \u001b[38;5;241m=\u001b[39m standard\u001b[38;5;241m.\u001b[39mnvl(\u001b[38;5;28;43mself\u001b[39;49m\u001b[38;5;241;43m.\u001b[39;49m\u001b[43mevalMetaobjAttr\u001b[49m\u001b[43m(\u001b[49m\u001b[43mkey\u001b[49m\u001b[43m)\u001b[49m, \u001b[38;5;124m'\u001b[39m\u001b[38;5;124m'\u001b[39m)\n\u001b[1;32m    563\u001b[0m   \u001b[38;5;28;01mif\u001b[39;00m \u001b[38;5;129;01mnot\u001b[39;00m \u001b[38;5;28misinstance\u001b[39m(value, _blobfields\u001b[38;5;241m.\u001b[39mMyBlob) \u001b[38;5;129;01mand\u001b[39;00m (\u001b[38;5;28misinstance\u001b[39m(value, Image) \u001b[38;5;129;01mor\u001b[39;00m \u001b[38;5;28misinstance\u001b[39m(value, File)):\n\u001b[1;32m    564\u001b[0m     value \u001b[38;5;241m=\u001b[39m _blobfields\u001b[38;5;241m.\u001b[39mMyBlobWrapper(value)\n",
      "File \u001b[0;32m~/src/zms-publishing/ZMS5/Products/zms/_objattrs.py:621\u001b[0m, in \u001b[0;36mObjAttrs.evalMetaobjAttr\u001b[0;34m(self, *args, **kwargs)\u001b[0m\n\u001b[1;32m    619\u001b[0m \u001b[38;5;28;01mif\u001b[39;00m \u001b[38;5;28mid\u001b[39m \u001b[38;5;241m==\u001b[39m \u001b[38;5;124m'\u001b[39m\u001b[38;5;124m*\u001b[39m\u001b[38;5;124m'\u001b[39m:\n\u001b[1;32m    620\u001b[0m   root \u001b[38;5;241m=\u001b[39m \u001b[38;5;28mself\u001b[39m\u001b[38;5;241m.\u001b[39mgetRootElement()\n\u001b[0;32m--> 621\u001b[0m \u001b[38;5;28;01mreturn\u001b[39;00m \u001b[43mroot\u001b[49m\u001b[38;5;241;43m.\u001b[39;49m\u001b[43mgetMetaobjManager\u001b[49m\u001b[43m(\u001b[49m\u001b[43m)\u001b[49m\u001b[38;5;241;43m.\u001b[39;49m\u001b[43mevalMetaobjAttr\u001b[49m\u001b[43m(\u001b[49m\u001b[38;5;28;43mid\u001b[39;49m\u001b[43m,\u001b[49m\u001b[43m \u001b[49m\u001b[43mkey\u001b[49m\u001b[43m,\u001b[49m\u001b[43m \u001b[49m\u001b[43mzmscontext\u001b[49m\u001b[38;5;241;43m=\u001b[39;49m\u001b[38;5;28;43mself\u001b[39;49m\u001b[43m,\u001b[49m\u001b[43m \u001b[49m\u001b[43moptions\u001b[49m\u001b[38;5;241;43m=\u001b[39;49m\u001b[43mkwargs\u001b[49m\u001b[43m)\u001b[49m\n",
      "File \u001b[0;32m~/src/zms-publishing/ZMS5/Products/zms/ZMSMetaobjManager.py:745\u001b[0m, in \u001b[0;36mZMSMetaobjManager.evalMetaobjAttr\u001b[0;34m(self, id, attr_id, zmscontext, options)\u001b[0m\n\u001b[1;32m    743\u001b[0m     ob \u001b[38;5;241m=\u001b[39m metaObjAttr\u001b[38;5;241m.\u001b[39mget(\u001b[38;5;124m'\u001b[39m\u001b[38;5;124mob\u001b[39m\u001b[38;5;124m'\u001b[39m, \u001b[38;5;28;01mNone\u001b[39;00m)\n\u001b[1;32m    744\u001b[0m     \u001b[38;5;28;01mif\u001b[39;00m ob:\n\u001b[0;32m--> 745\u001b[0m       value \u001b[38;5;241m=\u001b[39m \u001b[43mzopeutil\u001b[49m\u001b[38;5;241;43m.\u001b[39;49m\u001b[43mcallObject\u001b[49m\u001b[43m(\u001b[49m\u001b[43mob\u001b[49m\u001b[43m,\u001b[49m\u001b[43m \u001b[49m\u001b[43mzmscontext\u001b[49m\u001b[38;5;241;43m=\u001b[39;49m\u001b[43mzmscontext\u001b[49m\u001b[43m,\u001b[49m\u001b[43m \u001b[49m\u001b[43moptions\u001b[49m\u001b[38;5;241;43m=\u001b[39;49m\u001b[43moptions\u001b[49m\u001b[43m)\u001b[49m\n\u001b[1;32m    746\u001b[0m \u001b[38;5;66;03m# Return value.\u001b[39;00m\n\u001b[1;32m    747\u001b[0m \u001b[38;5;28;01mreturn\u001b[39;00m value\n",
      "File \u001b[0;32m~/src/zms-publishing/ZMS5/Products/zms/zopeutil.py:131\u001b[0m, in \u001b[0;36mcallObject\u001b[0;34m(ob, zmscontext, options)\u001b[0m\n\u001b[1;32m    129\u001b[0m   v \u001b[38;5;241m=\u001b[39m ob()\n\u001b[1;32m    130\u001b[0m \u001b[38;5;28;01melse\u001b[39;00m:\n\u001b[0;32m--> 131\u001b[0m   v \u001b[38;5;241m=\u001b[39m \u001b[43mob\u001b[49m\u001b[43m(\u001b[49m\u001b[43mzmscontext\u001b[49m\u001b[38;5;241;43m=\u001b[39;49m\u001b[43mzmscontext\u001b[49m\u001b[43m)\u001b[49m\n\u001b[1;32m    132\u001b[0m \u001b[38;5;28;01mreturn\u001b[39;00m v\n",
      "File \u001b[0;32m~/src/zopefoundation/Zope/src/Shared/DC/Scripts/Bindings.py:335\u001b[0m, in \u001b[0;36mBindings.__call__\u001b[0;34m(self, *args, **kw)\u001b[0m\n\u001b[1;32m    333\u001b[0m \u001b[38;5;28;01mdef\u001b[39;00m \u001b[38;5;21m__call__\u001b[39m(\u001b[38;5;28mself\u001b[39m, \u001b[38;5;241m*\u001b[39margs, \u001b[38;5;241m*\u001b[39m\u001b[38;5;241m*\u001b[39mkw):\n\u001b[1;32m    334\u001b[0m \u001b[38;5;250m    \u001b[39m\u001b[38;5;124;03m'''Calls the script.'''\u001b[39;00m\n\u001b[0;32m--> 335\u001b[0m     \u001b[38;5;28;01mreturn\u001b[39;00m \u001b[38;5;28;43mself\u001b[39;49m\u001b[38;5;241;43m.\u001b[39;49m\u001b[43m_bindAndExec\u001b[49m\u001b[43m(\u001b[49m\u001b[43margs\u001b[49m\u001b[43m,\u001b[49m\u001b[43m \u001b[49m\u001b[43mkw\u001b[49m\u001b[43m,\u001b[49m\u001b[43m \u001b[49m\u001b[38;5;28;43;01mNone\u001b[39;49;00m\u001b[43m)\u001b[49m\n",
      "File \u001b[0;32m~/src/zopefoundation/Zope/src/Shared/DC/Scripts/Bindings.py:372\u001b[0m, in \u001b[0;36mBindings._bindAndExec\u001b[0;34m(self, args, kw, caller_namespace)\u001b[0m\n\u001b[1;32m    370\u001b[0m         exec(bindcode)\n\u001b[1;32m    371\u001b[0m         bound_data \u001b[38;5;241m=\u001b[39m bound_data[\u001b[38;5;241m0\u001b[39m]\n\u001b[0;32m--> 372\u001b[0m     \u001b[38;5;28;01mreturn\u001b[39;00m \u001b[38;5;28;43mself\u001b[39;49m\u001b[38;5;241;43m.\u001b[39;49m\u001b[43m_exec\u001b[49m\u001b[43m(\u001b[49m\u001b[43mbound_data\u001b[49m\u001b[43m,\u001b[49m\u001b[43m \u001b[49m\u001b[43margs\u001b[49m\u001b[43m,\u001b[49m\u001b[43m \u001b[49m\u001b[43mkw\u001b[49m\u001b[43m)\u001b[49m\n\u001b[1;32m    373\u001b[0m \u001b[38;5;28;01mfinally\u001b[39;00m:\n\u001b[1;32m    374\u001b[0m     security\u001b[38;5;241m.\u001b[39mremoveContext(\u001b[38;5;28mself\u001b[39m)\n",
      "File \u001b[0;32m~/src/zopefoundation/Zope/src/Products/PageTemplates/ZopePageTemplate.py:283\u001b[0m, in \u001b[0;36mZopePageTemplate._exec\u001b[0;34m(self, bound_names, args, kw)\u001b[0m\n\u001b[1;32m    280\u001b[0m security\u001b[38;5;241m.\u001b[39maddContext(\u001b[38;5;28mself\u001b[39m)\n\u001b[1;32m    282\u001b[0m \u001b[38;5;28;01mtry\u001b[39;00m:\n\u001b[0;32m--> 283\u001b[0m     result \u001b[38;5;241m=\u001b[39m \u001b[38;5;28;43mself\u001b[39;49m\u001b[38;5;241;43m.\u001b[39;49m\u001b[43mpt_render\u001b[49m\u001b[43m(\u001b[49m\u001b[43mextra_context\u001b[49m\u001b[38;5;241;43m=\u001b[39;49m\u001b[43mbound_names\u001b[49m\u001b[43m)\u001b[49m\n\u001b[1;32m    284\u001b[0m     \u001b[38;5;28;01mif\u001b[39;00m keyset \u001b[38;5;129;01mis\u001b[39;00m \u001b[38;5;129;01mnot\u001b[39;00m \u001b[38;5;28;01mNone\u001b[39;00m:\n\u001b[1;32m    285\u001b[0m         \u001b[38;5;66;03m# Store the result in the cache.\u001b[39;00m\n\u001b[1;32m    286\u001b[0m         \u001b[38;5;28mself\u001b[39m\u001b[38;5;241m.\u001b[39mZCacheable_set(result, keywords\u001b[38;5;241m=\u001b[39mkeyset)\n",
      "File \u001b[0;32m~/src/zopefoundation/Zope/src/Products/PageTemplates/ZopePageTemplate.py:347\u001b[0m, in \u001b[0;36mZopePageTemplate.pt_render\u001b[0;34m(self, source, extra_context)\u001b[0m\n\u001b[1;32m    346\u001b[0m \u001b[38;5;28;01mdef\u001b[39;00m \u001b[38;5;21mpt_render\u001b[39m(\u001b[38;5;28mself\u001b[39m, source\u001b[38;5;241m=\u001b[39m\u001b[38;5;28;01mFalse\u001b[39;00m, extra_context\u001b[38;5;241m=\u001b[39m{}):\n\u001b[0;32m--> 347\u001b[0m     result \u001b[38;5;241m=\u001b[39m \u001b[43mPageTemplate\u001b[49m\u001b[38;5;241;43m.\u001b[39;49m\u001b[43mpt_render\u001b[49m\u001b[43m(\u001b[49m\u001b[38;5;28;43mself\u001b[39;49m\u001b[43m,\u001b[49m\u001b[43m \u001b[49m\u001b[43msource\u001b[49m\u001b[43m,\u001b[49m\u001b[43m \u001b[49m\u001b[43mextra_context\u001b[49m\u001b[43m)\u001b[49m\n\u001b[1;32m    348\u001b[0m     \u001b[38;5;28;01massert\u001b[39;00m \u001b[38;5;28misinstance\u001b[39m(result, \u001b[38;5;28mstr\u001b[39m)\n\u001b[1;32m    349\u001b[0m     \u001b[38;5;28;01mreturn\u001b[39;00m result\n",
      "File \u001b[0;32m~/src/zopefoundation/Zope/src/Products/PageTemplates/PageTemplate.py:81\u001b[0m, in \u001b[0;36mPageTemplate.pt_render\u001b[0;34m(self, source, extra_context)\u001b[0m\n\u001b[1;32m     79\u001b[0m \u001b[38;5;28;01mif\u001b[39;00m source:\n\u001b[1;32m     80\u001b[0m     showtal \u001b[38;5;241m=\u001b[39m \u001b[38;5;28;01mTrue\u001b[39;00m\n\u001b[0;32m---> 81\u001b[0m \u001b[38;5;28;01mreturn\u001b[39;00m \u001b[38;5;28;43msuper\u001b[39;49m\u001b[43m(\u001b[49m\u001b[43m)\u001b[49m\u001b[38;5;241;43m.\u001b[39;49m\u001b[43mpt_render\u001b[49m\u001b[43m(\u001b[49m\n\u001b[1;32m     82\u001b[0m \u001b[43m    \u001b[49m\u001b[43mc\u001b[49m\u001b[43m,\u001b[49m\u001b[43m \u001b[49m\u001b[43msource\u001b[49m\u001b[38;5;241;43m=\u001b[39;49m\u001b[43msource\u001b[49m\u001b[43m,\u001b[49m\u001b[43m \u001b[49m\u001b[43msourceAnnotations\u001b[49m\u001b[38;5;241;43m=\u001b[39;49m\u001b[43msourceAnnotations\u001b[49m\u001b[43m,\u001b[49m\n\u001b[1;32m     83\u001b[0m \u001b[43m    \u001b[49m\u001b[43mshowtal\u001b[49m\u001b[38;5;241;43m=\u001b[39;49m\u001b[43mshowtal\u001b[49m\u001b[43m)\u001b[49m\n",
      "File \u001b[0;32m~/vpy38/lib/python3.8/site-packages/zope/pagetemplate/pagetemplate.py:133\u001b[0m, in \u001b[0;36mPageTemplate.pt_render\u001b[0;34m(self, namespace, source, sourceAnnotations, showtal)\u001b[0m\n\u001b[1;32m    129\u001b[0m     \u001b[38;5;28;01mraise\u001b[39;00m PTRuntimeError(\u001b[38;5;28mstr\u001b[39m(\u001b[38;5;28mself\u001b[39m\u001b[38;5;241m.\u001b[39m_v_errors))\n\u001b[1;32m    131\u001b[0m context \u001b[38;5;241m=\u001b[39m \u001b[38;5;28mself\u001b[39m\u001b[38;5;241m.\u001b[39mpt_getEngineContext(namespace)\n\u001b[0;32m--> 133\u001b[0m \u001b[38;5;28;01mreturn\u001b[39;00m \u001b[38;5;28;43mself\u001b[39;49m\u001b[38;5;241;43m.\u001b[39;49m\u001b[43m_v_program\u001b[49m\u001b[43m(\u001b[49m\n\u001b[1;32m    134\u001b[0m \u001b[43m    \u001b[49m\u001b[43mcontext\u001b[49m\u001b[43m,\u001b[49m\u001b[43m \u001b[49m\u001b[38;5;28;43mself\u001b[39;49m\u001b[38;5;241;43m.\u001b[39;49m\u001b[43m_v_macros\u001b[49m\u001b[43m,\u001b[49m\u001b[43m \u001b[49m\u001b[43mtal\u001b[49m\u001b[38;5;241;43m=\u001b[39;49m\u001b[38;5;129;43;01mnot\u001b[39;49;00m\u001b[43m \u001b[49m\u001b[43msource\u001b[49m\u001b[43m,\u001b[49m\u001b[43m \u001b[49m\u001b[43mshowtal\u001b[49m\u001b[38;5;241;43m=\u001b[39;49m\u001b[43mshowtal\u001b[49m\u001b[43m,\u001b[49m\n\u001b[1;32m    135\u001b[0m \u001b[43m    \u001b[49m\u001b[43mstrictinsert\u001b[49m\u001b[38;5;241;43m=\u001b[39;49m\u001b[38;5;241;43m0\u001b[39;49m\u001b[43m,\u001b[49m\u001b[43m \u001b[49m\u001b[43msourceAnnotations\u001b[49m\u001b[38;5;241;43m=\u001b[39;49m\u001b[43msourceAnnotations\u001b[49m\n\u001b[1;32m    136\u001b[0m \u001b[43m    \u001b[49m\u001b[43m)\u001b[49m\n",
      "File \u001b[0;32m~/vpy38/lib/python3.8/site-packages/zope/pagetemplate/pagetemplate.py:265\u001b[0m, in \u001b[0;36mPageTemplateEngine.__call__\u001b[0;34m(self, context, macros, **options)\u001b[0m\n\u001b[1;32m    260\u001b[0m output \u001b[38;5;241m=\u001b[39m StringIO(\u001b[38;5;124mu\u001b[39m\u001b[38;5;124m'\u001b[39m\u001b[38;5;124m'\u001b[39m)\n\u001b[1;32m    261\u001b[0m interpreter \u001b[38;5;241m=\u001b[39m TALInterpreter(\n\u001b[1;32m    262\u001b[0m     \u001b[38;5;28mself\u001b[39m\u001b[38;5;241m.\u001b[39mprogram, macros, context,\n\u001b[1;32m    263\u001b[0m     stream\u001b[38;5;241m=\u001b[39moutput, \u001b[38;5;241m*\u001b[39m\u001b[38;5;241m*\u001b[39moptions\n\u001b[1;32m    264\u001b[0m     )\n\u001b[0;32m--> 265\u001b[0m \u001b[43minterpreter\u001b[49m\u001b[43m(\u001b[49m\u001b[43m)\u001b[49m\n\u001b[1;32m    266\u001b[0m \u001b[38;5;28;01mreturn\u001b[39;00m output\u001b[38;5;241m.\u001b[39mgetvalue()\n",
      "File \u001b[0;32m~/vpy38/lib/python3.8/site-packages/zope/tal/talinterpreter.py:274\u001b[0m, in \u001b[0;36mTALInterpreter.__call__\u001b[0;34m(self)\u001b[0m\n\u001b[1;32m    272\u001b[0m \u001b[38;5;28;01massert\u001b[39;00m \u001b[38;5;28mself\u001b[39m\u001b[38;5;241m.\u001b[39mscopeLevel \u001b[38;5;241m==\u001b[39m \u001b[38;5;241m0\u001b[39m\n\u001b[1;32m    273\u001b[0m \u001b[38;5;28;01massert\u001b[39;00m \u001b[38;5;28mself\u001b[39m\u001b[38;5;241m.\u001b[39mi18nContext\u001b[38;5;241m.\u001b[39mparent \u001b[38;5;129;01mis\u001b[39;00m \u001b[38;5;28;01mNone\u001b[39;00m\n\u001b[0;32m--> 274\u001b[0m \u001b[38;5;28;43mself\u001b[39;49m\u001b[38;5;241;43m.\u001b[39;49m\u001b[43minterpret\u001b[49m\u001b[43m(\u001b[49m\u001b[38;5;28;43mself\u001b[39;49m\u001b[38;5;241;43m.\u001b[39;49m\u001b[43mprogram\u001b[49m\u001b[43m)\u001b[49m\n\u001b[1;32m    275\u001b[0m \u001b[38;5;28;01massert\u001b[39;00m \u001b[38;5;28mself\u001b[39m\u001b[38;5;241m.\u001b[39mlevel \u001b[38;5;241m==\u001b[39m \u001b[38;5;241m0\u001b[39m\n\u001b[1;32m    276\u001b[0m \u001b[38;5;28;01massert\u001b[39;00m \u001b[38;5;28mself\u001b[39m\u001b[38;5;241m.\u001b[39mscopeLevel \u001b[38;5;241m==\u001b[39m \u001b[38;5;241m0\u001b[39m\n",
      "File \u001b[0;32m~/vpy38/lib/python3.8/site-packages/zope/tal/talinterpreter.py:346\u001b[0m, in \u001b[0;36mTALInterpreter.interpret\u001b[0;34m(self, program)\u001b[0m\n\u001b[1;32m    344\u001b[0m     \u001b[38;5;28;01melse\u001b[39;00m:\n\u001b[1;32m    345\u001b[0m         \u001b[38;5;28;01mfor\u001b[39;00m (opcode, args) \u001b[38;5;129;01min\u001b[39;00m program:\n\u001b[0;32m--> 346\u001b[0m             \u001b[43mhandlers\u001b[49m\u001b[43m[\u001b[49m\u001b[43mopcode\u001b[49m\u001b[43m]\u001b[49m\u001b[43m(\u001b[49m\u001b[38;5;28;43mself\u001b[39;49m\u001b[43m,\u001b[49m\u001b[43m \u001b[49m\u001b[43margs\u001b[49m\u001b[43m)\u001b[49m\n\u001b[1;32m    347\u001b[0m \u001b[38;5;28;01mfinally\u001b[39;00m:\n\u001b[1;32m    348\u001b[0m     \u001b[38;5;28mself\u001b[39m\u001b[38;5;241m.\u001b[39mlevel \u001b[38;5;241m=\u001b[39m oldlevel\n",
      "File \u001b[0;32m~/vpy38/lib/python3.8/site-packages/zope/tal/talinterpreter.py:594\u001b[0m, in \u001b[0;36mTALInterpreter.do_setGlobal_tal\u001b[0;34m(self, stuff)\u001b[0m\n\u001b[1;32m    592\u001b[0m \u001b[38;5;28;01mdef\u001b[39;00m \u001b[38;5;21mdo_setGlobal_tal\u001b[39m(\u001b[38;5;28mself\u001b[39m, stuff):\n\u001b[1;32m    593\u001b[0m     (name, expr) \u001b[38;5;241m=\u001b[39m stuff\n\u001b[0;32m--> 594\u001b[0m     \u001b[38;5;28mself\u001b[39m\u001b[38;5;241m.\u001b[39mengine\u001b[38;5;241m.\u001b[39msetGlobal(name, \u001b[38;5;28;43mself\u001b[39;49m\u001b[38;5;241;43m.\u001b[39;49m\u001b[43mengine\u001b[49m\u001b[38;5;241;43m.\u001b[39;49m\u001b[43mevaluateValue\u001b[49m\u001b[43m(\u001b[49m\u001b[43mexpr\u001b[49m\u001b[43m)\u001b[49m)\n",
      "File \u001b[0;32m~/vpy38/lib/python3.8/site-packages/zope/tales/tales.py:775\u001b[0m, in \u001b[0;36mContext.evaluate\u001b[0;34m(self, expression)\u001b[0m\n\u001b[1;32m    772\u001b[0m     expression \u001b[38;5;241m=\u001b[39m \u001b[38;5;28mself\u001b[39m\u001b[38;5;241m.\u001b[39m_engine\u001b[38;5;241m.\u001b[39mcompile(expression)\n\u001b[1;32m    773\u001b[0m __traceback_supplement__ \u001b[38;5;241m=\u001b[39m (\n\u001b[1;32m    774\u001b[0m     TALESTracebackSupplement, \u001b[38;5;28mself\u001b[39m, expression)\n\u001b[0;32m--> 775\u001b[0m \u001b[38;5;28;01mreturn\u001b[39;00m \u001b[43mexpression\u001b[49m\u001b[43m(\u001b[49m\u001b[38;5;28;43mself\u001b[39;49m\u001b[43m)\u001b[49m\n",
      "File \u001b[0;32m~/vpy38/lib/python3.8/site-packages/zope/tales/expressions.py:250\u001b[0m, in \u001b[0;36mPathExpr.__call__\u001b[0;34m(self, econtext)\u001b[0m\n\u001b[1;32m    248\u001b[0m \u001b[38;5;28;01mif\u001b[39;00m \u001b[38;5;28mself\u001b[39m\u001b[38;5;241m.\u001b[39m_name \u001b[38;5;241m==\u001b[39m \u001b[38;5;124m'\u001b[39m\u001b[38;5;124mexists\u001b[39m\u001b[38;5;124m'\u001b[39m:\n\u001b[1;32m    249\u001b[0m     \u001b[38;5;28;01mreturn\u001b[39;00m \u001b[38;5;28mself\u001b[39m\u001b[38;5;241m.\u001b[39m_exists(econtext)\n\u001b[0;32m--> 250\u001b[0m \u001b[38;5;28;01mreturn\u001b[39;00m \u001b[38;5;28;43mself\u001b[39;49m\u001b[38;5;241;43m.\u001b[39;49m\u001b[43m_eval\u001b[49m\u001b[43m(\u001b[49m\u001b[43mecontext\u001b[49m\u001b[43m)\u001b[49m\n",
      "File \u001b[0;32m~/src/zopefoundation/Zope/src/Products/PageTemplates/Expressions.py:216\u001b[0m, in \u001b[0;36mZopePathExpr._eval\u001b[0;34m(self, econtext)\u001b[0m\n\u001b[1;32m    213\u001b[0m         \u001b[38;5;28;01mbreak\u001b[39;00m\n\u001b[1;32m    214\u001b[0m \u001b[38;5;28;01melse\u001b[39;00m:\n\u001b[1;32m    215\u001b[0m     \u001b[38;5;66;03m# On the last subexpression allow exceptions through.\u001b[39;00m\n\u001b[0;32m--> 216\u001b[0m     ob \u001b[38;5;241m=\u001b[39m \u001b[38;5;28;43mself\u001b[39;49m\u001b[38;5;241;43m.\u001b[39;49m\u001b[43m_subexprs\u001b[49m\u001b[43m[\u001b[49m\u001b[38;5;241;43m-\u001b[39;49m\u001b[38;5;241;43m1\u001b[39;49m\u001b[43m]\u001b[49m\u001b[43m(\u001b[49m\u001b[43mecontext\u001b[49m\u001b[43m)\u001b[49m\n\u001b[1;32m    217\u001b[0m     \u001b[38;5;28;01mif\u001b[39;00m \u001b[38;5;28mself\u001b[39m\u001b[38;5;241m.\u001b[39m_hybrid:\n\u001b[1;32m    218\u001b[0m         \u001b[38;5;28;01mreturn\u001b[39;00m ob\n",
      "File \u001b[0;32m~/vpy38/lib/python3.8/site-packages/zope/tales/expressions.py:153\u001b[0m, in \u001b[0;36mSubPathExpr._eval\u001b[0;34m(self, econtext, isinstance)\u001b[0m\n\u001b[1;32m    151\u001b[0m \u001b[38;5;28;01mfor\u001b[39;00m element \u001b[38;5;129;01min\u001b[39;00m compiled_path:\n\u001b[1;32m    152\u001b[0m     \u001b[38;5;28;01mif\u001b[39;00m \u001b[38;5;28misinstance\u001b[39m(element, \u001b[38;5;28mtuple\u001b[39m):\n\u001b[0;32m--> 153\u001b[0m         ob \u001b[38;5;241m=\u001b[39m \u001b[38;5;28;43mself\u001b[39;49m\u001b[38;5;241;43m.\u001b[39;49m\u001b[43m_traverser\u001b[49m\u001b[43m(\u001b[49m\u001b[43mob\u001b[49m\u001b[43m,\u001b[49m\u001b[43m \u001b[49m\u001b[43melement\u001b[49m\u001b[43m,\u001b[49m\u001b[43m \u001b[49m\u001b[43mecontext\u001b[49m\u001b[43m)\u001b[49m\n\u001b[1;32m    154\u001b[0m     \u001b[38;5;28;01melif\u001b[39;00m \u001b[38;5;28misinstance\u001b[39m(element, six\u001b[38;5;241m.\u001b[39mstring_types):\n\u001b[1;32m    155\u001b[0m         val \u001b[38;5;241m=\u001b[39m \u001b[38;5;28mvars\u001b[39m[element]\n",
      "File \u001b[0;32m~/src/zopefoundation/Zope/src/Products/PageTemplates/Expressions.py:87\u001b[0m, in \u001b[0;36mboboAwareZopeTraverse\u001b[0;34m(object, path_items, econtext)\u001b[0m\n\u001b[1;32m     85\u001b[0m     \u001b[38;5;28mobject\u001b[39m \u001b[38;5;241m=\u001b[39m \u001b[38;5;28mobject\u001b[39m\u001b[38;5;241m.\u001b[39mrestrictedTraverse(name)\n\u001b[1;32m     86\u001b[0m \u001b[38;5;28;01melse\u001b[39;00m:\n\u001b[0;32m---> 87\u001b[0m     found \u001b[38;5;241m=\u001b[39m \u001b[43mtraversePathElement\u001b[49m\u001b[43m(\u001b[49m\u001b[38;5;28;43mobject\u001b[39;49m\u001b[43m,\u001b[49m\u001b[43m \u001b[49m\u001b[43mname\u001b[49m\u001b[43m,\u001b[49m\u001b[43m \u001b[49m\u001b[43mpath_items\u001b[49m\u001b[43m,\u001b[49m\n\u001b[1;32m     88\u001b[0m \u001b[43m                                \u001b[49m\u001b[43mrequest\u001b[49m\u001b[38;5;241;43m=\u001b[39;49m\u001b[43mrequest\u001b[49m\u001b[43m)\u001b[49m\n\u001b[1;32m     90\u001b[0m     \u001b[38;5;66;03m# Special backwards compatibility exception for the name ``_``,\u001b[39;00m\n\u001b[1;32m     91\u001b[0m     \u001b[38;5;66;03m# which was often used for translation message factories.\u001b[39;00m\n\u001b[1;32m     92\u001b[0m     \u001b[38;5;66;03m# Allow and continue traversal.\u001b[39;00m\n\u001b[1;32m     93\u001b[0m     \u001b[38;5;28;01mif\u001b[39;00m name \u001b[38;5;241m==\u001b[39m \u001b[38;5;124m'\u001b[39m\u001b[38;5;124m_\u001b[39m\u001b[38;5;124m'\u001b[39m:\n",
      "File \u001b[0;32m~/vpy38/lib/python3.8/site-packages/zope/traversing/adapters.py:153\u001b[0m, in \u001b[0;36mtraversePathElement\u001b[0;34m(obj, name, further_path, default, traversable, request)\u001b[0m\n\u001b[1;32m    151\u001b[0m     traversable \u001b[38;5;241m=\u001b[39m ITraversable(obj, \u001b[38;5;28;01mNone\u001b[39;00m)\n\u001b[1;32m    152\u001b[0m     \u001b[38;5;28;01mif\u001b[39;00m traversable \u001b[38;5;129;01mis\u001b[39;00m \u001b[38;5;28;01mNone\u001b[39;00m:\n\u001b[0;32m--> 153\u001b[0m         \u001b[38;5;28;01mraise\u001b[39;00m LocationError(\u001b[38;5;124m'\u001b[39m\u001b[38;5;124mNo traversable adapter found\u001b[39m\u001b[38;5;124m'\u001b[39m, obj)\n\u001b[1;32m    155\u001b[0m \u001b[38;5;28;01mtry\u001b[39;00m:\n\u001b[1;32m    156\u001b[0m     \u001b[38;5;28;01mreturn\u001b[39;00m traversable\u001b[38;5;241m.\u001b[39mtraverse(nm, further_path)\n",
      "\u001b[0;31mLocationError\u001b[0m: ('No traversable adapter found', {'zmscontext': <Products.zms.zmscustom.ZMSCustom object at 0x7fa4163f15f0 oid 0x14252 in <Connection at 7fa416eb2520>>, 'args': ()})"
     ]
    }
   ],
   "source": [
    "zmscontext.getBodyContent(context.REQUEST)"
   ]
  },
  {
   "cell_type": "code",
   "execution_count": null,
   "metadata": {},
   "outputs": [],
   "source": [
    "from docx import Document\n",
    "\n",
    "document = Document()\n",
    "\n",
    "title = doc.get('title')\n",
    "text = doc.get('attr_dc_description')\n",
    "\n",
    "document.add_heading(title, 0)\n",
    "document.add_paragraph(text)\n",
    "\n",
    "document.save('demo.docx')"
   ]
  },
  {
   "cell_type": "code",
   "execution_count": null,
   "metadata": {},
   "outputs": [],
   "source": [
    "# Finally close ZODB connection\n",
    "db.close()"
   ]
  }
 ],
 "metadata": {
  "kernelspec": {
   "display_name": "vpy38",
   "language": "python",
   "name": "python3"
  },
  "language_info": {
   "codemirror_mode": {
    "name": "ipython",
    "version": 3
   },
   "file_extension": ".py",
   "mimetype": "text/x-python",
   "name": "python",
   "nbconvert_exporter": "python",
   "pygments_lexer": "ipython3",
   "version": "3.8.10"
  },
  "orig_nbformat": 4
 },
 "nbformat": 4,
 "nbformat_minor": 2
}
