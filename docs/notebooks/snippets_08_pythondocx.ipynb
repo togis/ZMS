{
 "cells": [
  {
   "attachments": {},
   "cell_type": "markdown",
   "metadata": {},
   "source": [
    "# Applying python-docx to ZMS content"
   ]
  },
  {
   "cell_type": "code",
   "execution_count": 2,
   "metadata": {},
   "outputs": [
    {
     "name": "stdout",
     "output_type": "stream",
     "text": [
      "__REGISTRY__['confdict'] None\n"
     ]
    },
    {
     "data": {
      "text/plain": [
       "'/home/zope/src/zms-publishing/ZMS5/docs/notebooks'"
      ]
     },
     "execution_count": 2,
     "metadata": {},
     "output_type": "execute_result"
    }
   ],
   "source": [
    "import ZODB\n",
    "import os\n",
    "from Products.Five.browser.tests.pages import SimpleView\n",
    "from Testing.makerequest import makerequest \t\t\t\t\t\t\t# makerequest(context)\n",
    "from Testing.ZopeTestCase.testZODBCompat import make_request_response \t# make_request_response()[1]\n",
    "from Acquisition import aq_get\n",
    "from Products.zms import standard\n",
    "from Products.zms import rest_api\n",
    "import json\n",
    "\n",
    "os.getcwd()"
   ]
  },
  {
   "cell_type": "code",
   "execution_count": 3,
   "metadata": {},
   "outputs": [],
   "source": [
    "# Create a ZODB connection to an existing ZODB database file\n",
    "try:\n",
    "\twd = '/home/zope/instance/zms5_dev/var/'\n",
    "\tdb = ZODB.DB(os.path.join(wd, 'Data.fs'))\n",
    "\tconn = db.open()\n",
    "\troot = conn.root\n",
    "\t###{'Application': <Application at >}\n",
    "except:\n",
    "\tdb.close()\n",
    "\tprint('Error: Database connection had to be closed before reopened.')"
   ]
  },
  {
   "cell_type": "code",
   "execution_count": 4,
   "metadata": {},
   "outputs": [
    {
     "name": "stdout",
     "output_type": "stream",
     "text": [
      "{\n",
      "  \"id\": \"e5\",\n",
      "  \"meta_id\": \"ZMSFolder\",\n",
      "  \"uid\": \"uid:60b30ef7-4e7d-4926-9309-c454906f6957\",\n",
      "  \"getPath\": \"/myzms2/content/e5\",\n",
      "  \"active\": 1,\n",
      "  \"title\": \"News about the ZMS concept\",\n",
      "  \"titlealt\": \"News\",\n",
      "  \"is_page\": true,\n",
      "  \"is_page_element\": false,\n",
      "  \"index_html\": \"./../../../../../../../myzms2/content/e5\",\n",
      "  \"parent_uid\": \"uid:4b46b796-d146-43c1-8eca-954d1ba2aafc\",\n",
      "  \"home_id\": \"myzms2\",\n",
      "  \"level\": 1,\n",
      "  \"restricted\": false,\n",
      "  \"titleimage\": null,\n",
      "  \"levelnfc\": \"\",\n",
      "  \"attr_dc_description\": \"Lorem ipsum dolor sit amet. Lorem ipsum dolor sit amet, consetetur sadipscing elitr, sed diam nonumy eirmod tempor invidunt ut labore et dolore magna aliquyam erat, sed diam voluptua. At vero eos et accusa\",\n",
      "  \"attr_dc_subject\": \"\",\n",
      "  \"attr_dc_type\": \"\",\n",
      "  \"attr_dc_creator\": \"\"\n",
      "}\n"
     ]
    }
   ],
   "source": [
    "# ZMS-Node /myzms2/content\n",
    "context = root.Application.myzms2.content \n",
    "# ##############################################\n",
    "# Add REQUEST to zmscontext object\n",
    "context = makerequest(context)\n",
    "# Add REQUEST vars\n",
    "context.REQUEST.set('lang','ger')\n",
    "context.REQUEST.set('path_to_handle','')\n",
    "# Add RESPONSE\n",
    "context.REQUEST.set('RESPONSE', make_request_response()[1])\n",
    "# ##############################################\n",
    "zmscontext = context.e5\n",
    "request = rest_api._get_request(zmscontext)\n",
    "\n",
    "# tree_nodes = rest_api.RestApiController(context,request).list_tree_nodes(zmscontext)[0:1]\n",
    "\n",
    "doc = rest_api.get_attrs(zmscontext)\n",
    "print(json.dumps(doc,indent=2))"
   ]
  },
  {
   "cell_type": "code",
   "execution_count": 5,
   "metadata": {},
   "outputs": [
    {
     "name": "stdout",
     "output_type": "stream",
     "text": [
      "zmscontext.title =  News about the ZMS concept\n",
      "content.title    =  ZMS - Python-based contentmanagement system for science, technology and medicine\n"
     ]
    }
   ],
   "source": [
    "print('zmscontext.title = ', zmscontext.attr('title'))\n",
    "print('content.title    = ', aq_get(zmscontext,'content').attr('title'))"
   ]
  },
  {
   "cell_type": "code",
   "execution_count": 6,
   "metadata": {},
   "outputs": [
    {
     "name": "stdout",
     "output_type": "stream",
     "text": [
      "## Script (Python) \"a_pyscript\"\n",
      "##bind container=container\n",
      "##bind context=context\n",
      "##bind namespace=\n",
      "##bind script=script\n",
      "##bind subpath=traverse_subpath\n",
      "##parameters=\n",
      "##title=\n",
      "##\n",
      "text = 'TEST'\n",
      "print(context.getProperty('title'))\n",
      "return printed\n",
      "\n"
     ]
    }
   ],
   "source": [
    "a_pyscript = makerequest(root.Application.myzmsx.a_pyscript)\n",
    "print(a_pyscript.read())"
   ]
  },
  {
   "cell_type": "code",
   "execution_count": 7,
   "metadata": {},
   "outputs": [
    {
     "data": {
      "text/plain": [
       "'ZMS-Rootfolder myzmsx\\n'"
      ]
     },
     "execution_count": 7,
     "metadata": {},
     "output_type": "execute_result"
    }
   ],
   "source": [
    "root.Application.myzmsx.a_pyscript()"
   ]
  },
  {
   "cell_type": "code",
   "execution_count": 8,
   "metadata": {},
   "outputs": [
    {
     "data": {
      "text/plain": [
       "<HTTPRequest, URL=http://nohost>"
      ]
     },
     "execution_count": 8,
     "metadata": {},
     "output_type": "execute_result"
    }
   ],
   "source": [
    "context.REQUEST"
   ]
  },
  {
   "cell_type": "code",
   "execution_count": 9,
   "metadata": {},
   "outputs": [],
   "source": [
    "# from docx import Document\n",
    "\n",
    "# document = Document()\n",
    "\n",
    "# title = doc.get('title')\n",
    "# text = doc.get('attr_dc_description')\n",
    "\n",
    "# document.add_heading(title, 0)\n",
    "# document.add_paragraph(text)\n",
    "\n",
    "# document.save('demo.docx')"
   ]
  },
  {
   "cell_type": "code",
   "execution_count": 10,
   "metadata": {},
   "outputs": [],
   "source": [
    "# # Finally close ZODB connection\n",
    "# \n",
    "db.close()"
   ]
  }
 ],
 "metadata": {
  "kernelspec": {
   "display_name": "vpy38",
   "language": "python",
   "name": "python3"
  },
  "language_info": {
   "codemirror_mode": {
    "name": "ipython",
    "version": 3
   },
   "file_extension": ".py",
   "mimetype": "text/x-python",
   "name": "python",
   "nbconvert_exporter": "python",
   "pygments_lexer": "ipython3",
   "version": "3.8.10"
  },
  "orig_nbformat": 4
 },
 "nbformat": 4,
 "nbformat_minor": 2
}
