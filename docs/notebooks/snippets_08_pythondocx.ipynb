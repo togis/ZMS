{
 "cells": [
  {
   "attachments": {},
   "cell_type": "markdown",
   "metadata": {},
   "source": [
    "# Applying python-docx to ZMS content"
   ]
  },
  {
   "cell_type": "markdown",
   "metadata": {},
   "source": [
    "## Load basic libraries"
   ]
  },
  {
   "cell_type": "code",
   "execution_count": null,
   "metadata": {},
   "outputs": [],
   "source": [
    "import ZODB\n",
    "import os\n",
    "from Products.Five.browser.tests.pages import SimpleView\n",
    "from Testing.makerequest import makerequest \t\t\t\t\t\t\t# makerequest(context)\n",
    "from Testing.ZopeTestCase.testZODBCompat import make_request_response \t# make_request_response()[1]\n",
    "from Acquisition import aq_get\n",
    "from Products.zms import standard\n",
    "from Products.zms import rest_api\n",
    "import json\n",
    "\n",
    "import re\n",
    "from bs4 import BeautifulSoup\n",
    "from docx import Document\n",
    "from docx.enum.table import WD_TABLE_ALIGNMENT"
   ]
  },
  {
   "cell_type": "markdown",
   "metadata": {},
   "source": [
    "## Open ZODB"
   ]
  },
  {
   "cell_type": "code",
   "execution_count": 2,
   "metadata": {},
   "outputs": [],
   "source": [
    "# Create a ZODB connection to an existing ZODB database file\n",
    "try:\n",
    "\twd = '/home/zope/instance/zms5_dev/var/'\n",
    "\tdb = ZODB.DB(os.path.join(wd, 'Data.fs'))\n",
    "\tconn = db.open()\n",
    "\troot = conn.root\n",
    "\t###{'Application': <Application at >}\n",
    "except:\n",
    "\tdb.close()\n",
    "\tprint('Error: Database connection had to be closed before reopened.')"
   ]
  },
  {
   "cell_type": "markdown",
   "metadata": {},
   "source": [
    "## Get ZODB Context"
   ]
  },
  {
   "cell_type": "code",
   "execution_count": null,
   "metadata": {},
   "outputs": [],
   "source": [
    "# ZMS-Node /myzms2/content\n",
    "context = root.Application.myzms2.content \n",
    "# ##############################################\n",
    "# Add REQUEST to zmscontext object\n",
    "context = makerequest(context)\n",
    "# Add REQUEST vars\n",
    "context.REQUEST.set('lang','ger')\n",
    "context.REQUEST.set('path_to_handle','')\n",
    "# Add RESPONSE\n",
    "context.REQUEST.set('RESPONSE', make_request_response()[1])\n",
    "# ##############################################\n",
    "zmscontext = context.e5\n",
    "request = rest_api._get_request(zmscontext)"
   ]
  },
  {
   "cell_type": "markdown",
   "metadata": {},
   "source": [
    "# Example API calls for extracting content from ZMS objects"
   ]
  },
  {
   "cell_type": "code",
   "execution_count": null,
   "metadata": {},
   "outputs": [],
   "source": [
    "# tree_nodes = rest_api.RestApiController(context,request).list_tree_nodes(zmscontext)[0:1]\n",
    "\n",
    "doc = rest_api.get_attrs(zmscontext)\n",
    "print(json.dumps(doc,indent=2))\n",
    "\n",
    "node = context.e4\n",
    "print(json.dumps(rest_api.get_attrs(node),indent=2))\n",
    "\n",
    "## Test Python-Script\n",
    "# a_pyscript = makerequest(root.Application.myzmsx.a_pyscript)\n",
    "# print(a_pyscript.read())\n",
    "\n",
    "# Get a custom py methods standard_json of a node (zpt does not work!)\n",
    "print(json.dumps(rest_api.get_attr(node,'standard_json'),indent=2))"
   ]
  },
  {
   "cell_type": "markdown",
   "metadata": {},
   "source": [
    "# Convert HTML-Richtext to Word-Docx "
   ]
  },
  {
   "cell_type": "code",
   "execution_count": 42,
   "metadata": {},
   "outputs": [],
   "source": [
    "docx = Document()\n",
    "\n",
    "def add_paragraph_style(paragraph, style):\n",
    "\tparagraph.style = docx.styles[style]\n",
    "\n",
    "def add_htmlblock_to_docx(docx, htmlblock):\n",
    "\thtmlblock = re.sub(r'<!.*?->','', htmlblock)\n",
    "\tsoup = BeautifulSoup(htmlblock, 'html.parser')\n",
    "\tfor element in soup.children:\n",
    "\t\tif element.name in ['h1', 'h2', 'h3', 'h4', 'h5', 'h6']:\n",
    "\t\t\theading_level = int(element.name[1])\n",
    "\t\t\tdocx.add_heading(element.text, level=heading_level)\n",
    "\t\tif element.name == 'p':\n",
    "\t\t\tp = docx.add_paragraph()\n",
    "\t\t\tif element.has_attr('class'):\n",
    "\t\t\t\tif 'caption' in element['class']:\n",
    "\t\t\t\t\tp.style('Caption')\n",
    "\t\t\tif element.children:\n",
    "\t\t\t\tfor elrun in element.children:\n",
    "\t\t\t\t\tif elrun.name == 'strong':\n",
    "\t\t\t\t\t\tp.add_run(elrun.text).bold = True\n",
    "\t\t\t\t\telif elrun.name == 'em':\n",
    "\t\t\t\t\t\tp.add_run(elrun.text).italic = True\n",
    "\t\t\t\t\telif elrun.name == 'a':\n",
    "\t\t\t\t\t\tp.add_run(elrun.text).hyperlink = elrun['href']\n",
    "\t\t\t\t\telse:\n",
    "\t\t\t\t\t\tp.add_run(str(elrun))\n",
    "\t\t\telse:\n",
    "\t\t\t\tp.text(element.text)\n",
    "\n",
    "\t\tif element.name == 'ul':\n",
    "\t\t\tfor li in element.find_all('li'):\n",
    "\t\t\t\tdocx.add_paragraph(li.text, style='ListBullet')\n",
    "\n",
    "\t\tif element.name == 'table':\n",
    "\t\t\trows = element.find_all('tr')\n",
    "\t\t\tcols = rows[0].find_all(['td','th'])\n",
    "\t\t\ttable = docx.add_table(rows=len(rows), cols=len(cols))\n",
    "\t\t\ttable.style = 'Table Grid'\n",
    "\t\t\ttable.alignment = WD_TABLE_ALIGNMENT.CENTER\n",
    "\t\t\tr=-1\n",
    "\t\t\tfor row in rows:\n",
    "\t\t\t\tr+=1\n",
    "\t\t\t\tcells = row.find_all(['td','th'])\n",
    "\t\t\t\tfor i, cl in enumerate(cells):\n",
    "\t\t\t\t\ttable.cell(r,i).text = cl.text\n",
    "\t\t\t\t\tif cl.name == 'th':\n",
    "\t\t\t\t\t\ttable.cell(r,i).paragraphs[0].runs[0].bold = True\n",
    "\n",
    "\n",
    "\t\tif element.name == 'img':\n",
    "\t\t\tif element.has_attr('src'):\n",
    "\t\t\t\timg_name = element['src'].split('/')[-1]\n",
    "\t\t\t\tif not element['src'].startswith('http'):\n",
    "\t\t\t\t\telement['src'] = 'https://www.sntl-publishing.com' + element['src']\n",
    "\t\t\ttry:\n",
    "\t\t\t\tresponse = requests.get(element['src'])\n",
    "\t\t\t\twith open(img_name, 'wb') as f:\n",
    "\t\t\t\t\tf.write(response.content)\n",
    "\t\t\t\tdocx.add_picture(img_name)\n",
    "\t\t\texcept:\n",
    "\t\t\t\tpass\n",
    "\treturn docx"
   ]
  },
  {
   "cell_type": "markdown",
   "metadata": {},
   "source": [
    "## Example converting HTML-Richtext to Word-Docx"
   ]
  },
  {
   "cell_type": "code",
   "execution_count": 43,
   "metadata": {},
   "outputs": [
    {
     "name": "stdout",
     "output_type": "stream",
     "text": [
      "<p>Lorem ipsum dolor sit amet, consectetur adipisicing elit, sed do eiusmod tempor incididunt ut labore et dolore magna aliqua. Ut enim ad minim veniam, quis nostrud exercitation ullamco laboris nisi ut aliquip ex ea commodo consequat. Duis aute irure dolor in reprehenderit in voluptate velit esse cillum dolore eu fugiat nulla pariatur. Excepteur sint occaecat cupidatat non proident, sunt in culpa qui officia deserunt mollit anim id est laborum.</p>\n",
      "-------------------\n"
     ]
    },
    {
     "name": "stdout",
     "output_type": "stream",
     "text": [
      "<h2>Lorem ipsum</h2>\n",
      "\n",
      "<p>dolor sit amet, consetetur sadipscing elitr, sed diam nonumy eirmod tempor invidunt ut labore et dolore magna aliquyam erat, sed diam voluptua. At vero eos et accusam et justo duo dolores et ea rebum. Stet clita kasd gubergren, no sea takimata sanctus est Lorem ipsum dolor sit amet. Lorem ipsum dolor sit amet, consetetur sadipscing elitr, sed diam <strong>nonumy </strong>eirmod <strong>tempor </strong>invidunt ut labore et <em>dolore </em>magna aliquyam erat, sed diam voluptua. At vero eos et accusam et justo duo dolores et ea rebum. Stet clita kasd gubergren, no sea takimata sanctus est Lorem ipsum dolor sit amet. Lorem ipsum dolor sit amet, consetetur sadipscing elitr, sed diam nonumy eirmod <em>tempor </em>invidunt ut labore et dolore magna aliquyam erat, sed diam voluptua. At vero eos et accusam et justo duo dolores et ea rebum. Stet clita kasd gubergren, no sea takimata sanctus est Lorem ipsum dolor sit amet. &nbsp;&nbsp;</p>\n",
      "\n",
      "<p><strong>Lorem ipsum dolor&nbsp;</strong></p>\n",
      "\n",
      "<p>Duis autem vel eum iriure dolor in hendrerit in vulputate velit esse molestie consequat, vel illum dolore eu feugiat nulla facilisis at vero eros et accumsan et iusto odio dignissim qui blandit praesent luptatum zzril delenit augue duis dolore te feugait nulla facilisi. Lorem ipsum dolor sit amet, consectetuer adipiscing elit, sed diam nonummy nibh euismod tincidunt ut laoreet dolore magna aliquam erat volutpat. &nbsp;Ut wisi enim ad minim veniam, quis nostrud exerci tation ullamcorper suscipit lobortis nisl ut aliquip ex ea commodo consequat. Duis autem vel eum iriure dolor in hendrerit in vulputate velit esse molestie consequat, vel illum dolore eu feugiat nulla facilisis at vero eros et accumsan et iusto odio dignissim qui blandit praesent luptatum zzril delenit augue duis dolore te feugait nulla facilisi.</p>\n",
      "\n",
      "<table border=\"1\" cellpadding=\"1\" cellspacing=\"1\" style=\"width:500px\">\n",
      "\t<thead>\n",
      "\t\t<tr>\n",
      "\t\t\t<th scope=\"col\">test</th>\n",
      "\t\t\t<th scope=\"col\">test</th>\n",
      "\t\t</tr>\n",
      "\t</thead>\n",
      "\t<tbody>\n",
      "\t\t<tr>\n",
      "\t\t\t<td>test</td>\n",
      "\t\t\t<td>test</td>\n",
      "\t\t</tr>\n",
      "\t\t<tr>\n",
      "\t\t\t<td>test</td>\n",
      "\t\t\t<td>test</td>\n",
      "\t\t</tr>\n",
      "\t</tbody>\n",
      "</table>\n",
      "\n",
      "<p>&nbsp;</p>\n",
      "\n",
      "<p><strong>vulputate velit &nbsp;molestie consequat</strong></p>\n",
      "\n",
      "<p>Duis autem vel eum iriure dolor in hendrerit in vulputate velit esse molestie consequat, vel illum dolore eu feugiat nulla facilisis at vero eros et accumsan et iusto odio dignissim qui blandit praesent luptatum zzril delenit augue duis dolore te feugait nulla facilisi. Lorem ipsum dolor sit amet, consectetuer adipiscing elit, sed diam nonummy nibh euismod tincidunt ut laoreet dolore magna aliquam erat volutpat. &nbsp;Ut wisi enim ad minim veniam, quis nostrud exerci tation ullamcorper suscipit lobortis nisl ut aliquip ex ea commodo consequat. Duis autem vel eum iriure dolor in hendrerit in vulputate velit esse molestie consequat, vel illum dolore eu feugiat nulla facilisis at vero eros et accumsan et iusto odio dignissim qui blandit praesent luptatum zzril delenit augue duis dolore te feugait nulla facilisi. &nbsp;&nbsp;</p>\n",
      "-------------------\n"
     ]
    }
   ],
   "source": [
    "zmsdoc = context.e12\n",
    "zmsdoc_metas = rest_api.get_attrs(zmsdoc)\n",
    "children = context.e12.getObjChildren('e',request, context.PAGEELEMENTS) # returns a list of all children of type 'e' in the folder PAGEELEMENTS\n",
    "\n",
    "for child in children:\n",
    "\tchild_metas = rest_api.get_attrs(child)\n",
    "\thtmlblock = rest_api.get_attr(child,'text')\n",
    "\tif htmlblock:\n",
    "\t\tdocx = add_htmlblock_to_docx(docx, htmlblock)\n",
    "\t\tprint(htmlblock)\n",
    "\t\tprint('-------------------')\n",
    "\n",
    "docx.save('test.docx')"
   ]
  },
  {
   "cell_type": "code",
   "execution_count": 13,
   "metadata": {},
   "outputs": [],
   "source": [
    "# # Finally close ZODB connection\n",
    "db.close()"
   ]
  }
 ],
 "metadata": {
  "kernelspec": {
   "display_name": "vpy38",
   "language": "python",
   "name": "python3"
  },
  "language_info": {
   "codemirror_mode": {
    "name": "ipython",
    "version": 3
   },
   "file_extension": ".py",
   "mimetype": "text/x-python",
   "name": "python",
   "nbconvert_exporter": "python",
   "pygments_lexer": "ipython3",
   "version": "3.8.10"
  },
  "orig_nbformat": 4
 },
 "nbformat": 4,
 "nbformat_minor": 2
}
