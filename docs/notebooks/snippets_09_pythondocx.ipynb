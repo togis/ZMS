{
 "cells": [
  {
   "attachments": {},
   "cell_type": "markdown",
   "metadata": {},
   "source": [
    "# Applying python-docx to ZMS content"
   ]
  },
  {
   "cell_type": "markdown",
   "metadata": {},
   "source": [
    "## Load basic libraries"
   ]
  },
  {
   "cell_type": "code",
   "execution_count": 9,
   "metadata": {},
   "outputs": [],
   "source": [
    "import ZODB\n",
    "import os\n",
    "from Products.Five.browser.tests.pages import SimpleView\n",
    "from Testing.makerequest import makerequest \t\t\t\t\t\t\t# makerequest(context)\n",
    "from Testing.ZopeTestCase.testZODBCompat import make_request_response \t# make_request_response()[1]\n",
    "from Acquisition import aq_get\n",
    "from Products.zms import standard\n",
    "from Products.zms import rest_api\n",
    "import json\n",
    "\n",
    "import re\n",
    "from bs4 import BeautifulSoup\n",
    "import requests\n",
    "\n",
    "import docx\n",
    "from docx.shared import Pt\n",
    "from docx.enum.table import WD_TABLE_ALIGNMENT\n",
    "from docx.enum.style import WD_STYLE_TYPE"
   ]
  },
  {
   "cell_type": "markdown",
   "metadata": {},
   "source": [
    "## Open ZODB"
   ]
  },
  {
   "cell_type": "code",
   "execution_count": 10,
   "metadata": {},
   "outputs": [],
   "source": [
    "# Create a ZODB connection to an existing ZODB database file\n",
    "try:\n",
    "\twd = '/home/zope/instance/zms5_dev/var/'\n",
    "\tdb = ZODB.DB(os.path.join(wd, 'Data.fs'))\n",
    "\tconn = db.open()\n",
    "\troot = conn.root\n",
    "\t###{'Application': <Application at >}\n",
    "except:\n",
    "\tdb.close()\n",
    "\tprint('Error: Database connection had to be closed before reopened.')"
   ]
  },
  {
   "cell_type": "markdown",
   "metadata": {},
   "source": [
    "## Get ZODB Context"
   ]
  },
  {
   "cell_type": "code",
   "execution_count": 11,
   "metadata": {},
   "outputs": [],
   "source": [
    "# ZMS-Node /myzms2/content\n",
    "# ##############################################\n",
    "context = root.Application.myzms2.content \n",
    "# ##############################################\n",
    "\n",
    "# Add REQUEST to zmscontext object\n",
    "context = makerequest(context)\n",
    "# Add REQUEST vars\n",
    "context.REQUEST.environ.setdefault('SERVER_NAME','localhost')\n",
    "context.REQUEST.environ.setdefault('SERVER_PORT', '8087')\n",
    "context.REQUEST['URL' ]= 'http://localhost:8087'\n",
    "context.REQUEST.set('lang','ger')\n",
    "context.REQUEST.set('path_to_handle','')\n",
    "# Add RESPONSE\n",
    "context.REQUEST.set('RESPONSE', make_request_response()[1])\n",
    "\n",
    "zmscontext = context.e5\n",
    "request = rest_api._get_request(zmscontext)"
   ]
  },
  {
   "cell_type": "markdown",
   "metadata": {},
   "source": [
    "# Example API calls for extracting content from ZMS objects"
   ]
  },
  {
   "cell_type": "code",
   "execution_count": 12,
   "metadata": {},
   "outputs": [
    {
     "data": {
      "text/plain": [
       "{'id': 'e36',\n",
       " 'meta_id': 'ZMSDocument',\n",
       " 'parent_id': 'e34',\n",
       " 'parent_meta_id': 'ZMSFolder',\n",
       " 'title': 'First Document',\n",
       " 'descripton': '',\n",
       " 'last_change_dt': time.struct_time(tm_year=2024, tm_mon=6, tm_mday=25, tm_hour=15, tm_min=48, tm_sec=11, tm_wday=1, tm_yday=177, tm_isdst=1)}"
      ]
     },
     "execution_count": 12,
     "metadata": {},
     "output_type": "execute_result"
    }
   ],
   "source": [
    "node = context.e34.e36\n",
    "node.attr('standard_json')[0]"
   ]
  },
  {
   "cell_type": "markdown",
   "metadata": {},
   "source": [
    "## DOCX-XML Helper Functions\n",
    "\n",
    "1. `add_page_number(run)` : add page number to text-run (e.g. footer)\n",
    "2. `add_bottom_border(style)` : adds border-properties to paragraph-style-object\n",
    "\n",
    "_Hint: the docx API does not support the page counter directly. We have to create a custom footer with a page counter._"
   ]
  },
  {
   "cell_type": "code",
   "execution_count": 13,
   "metadata": {},
   "outputs": [],
   "source": [
    "from docx.oxml import OxmlElement, ns\n",
    "\n",
    "def create_element(name):\n",
    "\treturn OxmlElement(name)\n",
    "\n",
    "def create_attribute(element, name, value):\n",
    "\telement.set(ns.qn(name), value)\n",
    "\n",
    "# PAGE NUMBER\n",
    "def add_page_number(run):\n",
    "\tfldChar1 = create_element('w:fldChar')\n",
    "\tcreate_attribute(fldChar1, 'w:fldCharType', 'begin')\n",
    "\n",
    "\tinstrText = create_element('w:instrText')\n",
    "\tcreate_attribute(instrText, 'xml:space', 'preserve')\n",
    "\tinstrText.text = \"PAGE\"\n",
    "\n",
    "\tfldChar2 = create_element('w:fldChar')\n",
    "\tcreate_attribute(fldChar2, 'w:fldCharType', 'end')\n",
    "\n",
    "\trun._r.append(fldChar1)\n",
    "\trun._r.append(instrText)\n",
    "\trun._r.append(fldChar2)\n",
    "\n",
    "# BORDER BOTTOM\n",
    "def add_bottom_border(style):\n",
    "\tborder = create_element('w:pBdr') # pBdr = Paragraph border\n",
    "\tbottom = create_element('w:bottom')\n",
    "\tcreate_attribute(bottom, 'w:val', 'single')\n",
    "\tcreate_attribute(bottom, 'w:sz', '2')\n",
    "\tcreate_attribute(bottom, 'w:space', '9')\n",
    "\tcreate_attribute(bottom, 'w:color', '017D87')\n",
    "\tborder.append(bottom)\n",
    "\tstyle.element.pPr.append(border) # pPr = Paragraph properties\n"
   ]
  },
  {
   "cell_type": "markdown",
   "metadata": {},
   "source": [
    "## Convert HTML-Richtext to Word-Docx "
   ]
  },
  {
   "cell_type": "code",
   "execution_count": 14,
   "metadata": {},
   "outputs": [],
   "source": [
    "# #############################################\t\n",
    "# INIT DOCUMENT\n",
    "# #############################################\t\n",
    "\n",
    "doc = docx.Document()\t# Hint: may use template like docx.Document('template.docx')\n",
    "\n",
    "# #############################################\t\n",
    "# STYLES\n",
    "# #############################################\t\n",
    "styles = doc.styles\n",
    "# Custom colors: #017D87\n",
    "custom_color1 = docx.shared.RGBColor(1, 125, 135)\n",
    "# Normal\n",
    "styles['Normal'].font.name = 'Arial'\n",
    "styles['Normal'].font.size = Pt(9)\n",
    "styles['Normal'].paragraph_format.space_after = Pt(6)\n",
    "styles['Normal'].paragraph_format.space_before = Pt(6)\n",
    "styles['Normal'].paragraph_format.line_spacing = 1.35\n",
    "# Headlines derived from Normal\n",
    "styles['Heading 1'].basedOn = doc.styles['Normal']\n",
    "styles['Heading 1'].font.size = Pt(24)\n",
    "styles['Heading 1'].font.color.rgb = custom_color1\n",
    "styles['Heading 2'].basedOn = doc.styles['Normal']\n",
    "styles['Heading 2'].font.size = Pt(18)\n",
    "styles['Heading 2'].font.color.rgb = custom_color1\n",
    "styles['Heading 3'].basedOn = doc.styles['Normal']\n",
    "styles['Heading 3'].font.size = Pt(12)\n",
    "styles['Heading 3'].font.bold = True\n",
    "styles['Heading 3'].font.color.rgb = custom_color1\n",
    "# Headlines derived from Normal\n",
    "styles.add_style('Description', WD_STYLE_TYPE.PARAGRAPH)\n",
    "styles['Description'].basedOn = doc.styles['Normal']\n",
    "styles['Description'].font.name = 'Arial'\n",
    "styles['Description'].font.size = Pt(9)\n",
    "styles['Description'].font.italic = True\n",
    "styles['Description'].font.color.rgb = custom_color1\n",
    "styles['Description'].paragraph_format.space_after = Pt(12)\n",
    "styles['Description'].paragraph_format.line_spacing = 1.35\n",
    "add_bottom_border(styles['Description'])\n",
    "\n",
    "\n",
    "# #############################################\t\n",
    "# HTML/RICHTEXT PROCESSOR\n",
    "# #############################################\t\n",
    "def add_htmlblock_to_docx(docx, htmlblock):\n",
    "\t# remove comments\n",
    "\thtmlblock = re.sub(r'<!.*?->','', htmlblock)\n",
    "\n",
    "\t# remove empty tags\n",
    "\thtmlblock = re.sub(r'<[^>]*>','', htmlblock) \n",
    "\n",
    "\t# Apply BeautifulSoup and iterate over elements\n",
    "\tsoup = BeautifulSoup(htmlblock, 'html.parser')\n",
    "\n",
    "\tfor element in soup.children:\n",
    "\t\tif element.name in ['h1', 'h2', 'h3', 'h4', 'h5', 'h6']:\n",
    "\t\t\theading_level = int(element.name[1])\n",
    "\t\t\tdocx.add_heading(element.text, level=heading_level)\n",
    "\n",
    "\t\tif element.name == 'p':\n",
    "\t\t\tp = docx.add_paragraph()\n",
    "\t\t\tif element.has_attr('class'):\n",
    "\t\t\t\tif 'caption' in element['class']:\n",
    "\t\t\t\t\tp.style('Caption')\n",
    "\t\t\tif element.children:\n",
    "\t\t\t\tfor elrun in element.children:\n",
    "\t\t\t\t\tif elrun.name == 'strong':\n",
    "\t\t\t\t\t\tp.add_run(elrun.text).bold = True\n",
    "\t\t\t\t\telif elrun.name == 'em':\n",
    "\t\t\t\t\t\tp.add_run(elrun.text).italic = True\n",
    "\t\t\t\t\telif elrun.name == 'a':\n",
    "\t\t\t\t\t\tp.add_run(elrun.text).hyperlink = elrun['href']\n",
    "\t\t\t\t\telse:\n",
    "\t\t\t\t\t\tp.add_run(str(elrun))\n",
    "\t\t\telse:\n",
    "\t\t\t\tp.text(element.text)\n",
    "\n",
    "\t\tif element.name in ['ul','ol']:\n",
    "\t\t\tdef add_list(docx, element, level=0):\n",
    "\t\t\t\tli_styles = {'ul':'ListBullet', 'ol':'ListNumber'}\n",
    "\t\t\t\tlevel_suffix = level!=0 and str(level+1) or ''\n",
    "\t\t\t\tfor li in element.find_all('li', recursive=False):\n",
    "\t\t\t\t\tdocx.add_paragraph(li.contents[0].strip(), style='%s%s'%(li_styles[element.name], level_suffix))\n",
    "\t\t\t\t\tfor ul in li.find_all(['ul','ol'], recursive=False):\n",
    "\t\t\t\t\t\tadd_list(docx, ul, level+1)\n",
    "\t\t\tadd_list(docx, element, level=0)\n",
    "\n",
    "\t\tif element.name == 'table':\n",
    "\t\t\trows = element.find_all('tr')\n",
    "\t\t\tcols = rows[0].find_all(['td','th'])\n",
    "\t\t\ttable = docx.add_table(rows=len(rows), cols=len(cols))\n",
    "\t\t\ttable.style = 'Table Grid'\n",
    "\t\t\ttable.alignment = WD_TABLE_ALIGNMENT.CENTER\n",
    "\t\t\tr=-1\n",
    "\t\t\tfor row in rows:\n",
    "\t\t\t\tr+=1\n",
    "\t\t\t\tcells = row.find_all(['td','th'])\n",
    "\t\t\t\tfor i, cl in enumerate(cells):\n",
    "\t\t\t\t\ttable.cell(r,i).text = cl.text\n",
    "\t\t\t\t\tif cl.name == 'th':\n",
    "\t\t\t\t\t\ttable.cell(r,i).paragraphs[0].runs[0].bold = True\n",
    "\n",
    "\t\tif element.name == 'img':\n",
    "\t\t\tif element.has_attr('src'):\n",
    "\t\t\t\timg_name = element['src'].split('/')[-1]\n",
    "\t\t\t\tif not element['src'].startswith('http'):\n",
    "\t\t\t\t\telement['src'] = str(context.REQUEST['URL' ]) + str(element['src'])\n",
    "\t\t\ttry:\n",
    "\t\t\t\tresponse = requests.get(element['src'])\n",
    "\t\t\t\twith open(img_name, 'wb') as f:\n",
    "\t\t\t\t\tf.write(response.content)\n",
    "\t\t\t\tdocx.add_picture(img_name)\n",
    "\t\t\texcept:\n",
    "\t\t\t\tpass\n",
    "\treturn docx"
   ]
  },
  {
   "cell_type": "markdown",
   "metadata": {},
   "source": [
    "## Example: Creating a Word-Docx file from a ZMS page"
   ]
  },
  {
   "cell_type": "code",
   "execution_count": 15,
   "metadata": {},
   "outputs": [],
   "source": [
    "zmsdoc = context.e34.e36.attr('standard_json')\n",
    "zmsdoc_metas = zmsdoc[0]\n",
    "children = zmsdoc[1:]\n",
    "\n",
    "# Set Header\n",
    "doc.sections[0].header.paragraphs[0].text = 'ZMS DOCX EXAMPLE - %s/%s'%(context.REQUEST['URL'], zmsdoc_metas.get('getPath',''))\n",
    "# Set Footer: add the page number field to the first footer paragraph\n",
    "add_page_number(doc.sections[0].footer.paragraphs[0].add_run('Seite '))\n",
    "\n",
    "# Add title + metadata\n",
    "title = doc.add_heading(zmsdoc_metas.get('title',''), level=1)\n",
    "if zmsdoc_metas.get('description','')!='':\n",
    "\tdescr = doc.add_paragraph(zmsdoc_metas.get('description',''))\n",
    "\tdescr.style = 'Description'\n",
    "\n",
    "# Add content\n",
    "for child in children:\n",
    "\tv = child['content']\n",
    "\tif v and child['docx_format'] == 'html':\n",
    "\t\tdoc = add_htmlblock_to_docx(docx = doc, htmlblock = v)\n",
    "\telse:\n",
    "\t\tdoc.add_paragraph(v, style=child['docx_format'])\n",
    "\n",
    "\n",
    "# doc.add_page_break()\n",
    "doc.save('test.docx')"
   ]
  },
  {
   "cell_type": "code",
   "execution_count": 8,
   "metadata": {},
   "outputs": [],
   "source": [
    "# # Finally close ZODB connection\n",
    "# db.close()"
   ]
  }
 ],
 "metadata": {
  "kernelspec": {
   "display_name": "vpy38",
   "language": "python",
   "name": "python3"
  },
  "language_info": {
   "codemirror_mode": {
    "name": "ipython",
    "version": 3
   },
   "file_extension": ".py",
   "mimetype": "text/x-python",
   "name": "python",
   "nbconvert_exporter": "python",
   "pygments_lexer": "ipython3",
   "version": "3.8.10"
  },
  "orig_nbformat": 4
 },
 "nbformat": 4,
 "nbformat_minor": 2
}
