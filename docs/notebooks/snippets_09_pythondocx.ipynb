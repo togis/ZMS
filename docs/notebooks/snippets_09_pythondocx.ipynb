{
 "cells": [
  {
   "cell_type": "markdown",
   "metadata": {},
   "source": [
    "# Creating DOCX objects from XML fragments"
   ]
  },
  {
   "cell_type": "code",
   "execution_count": 5,
   "metadata": {},
   "outputs": [],
   "source": [
    "import docx\n",
    "from docx.oxml import parse_xml\n",
    "from docx.oxml.ns import nsdecls\n",
    "from lxml import etree\n",
    "\n",
    "doc = docx.Document()\n",
    "# Add a heading\n",
    "doc.add_heading('Test Document', level=1)\n",
    "\n",
    "\n",
    "# Add a paragraph\n",
    "# This XML string is a paragraph with two runs. The second run has a style applied.\n",
    "# Examples: https://github.com/python-openxml/python-docx/tree/master/docs/dev/analysis/features\n",
    "\n",
    "xml_string = \"\"\"\n",
    "\t<w:p xmlns:w=\"http://schemas.openxmlformats.org/wordprocessingml/2006/main\">\n",
    "\t\t<w:r>\n",
    "\t\t\t<w:t>Hello, </w:t>\n",
    "\t\t</w:r>\n",
    "\t\t<w:r>\n",
    "\t\t<w:rPr>\n",
    "\t\t\t<w:rStyle w:val=\"Emphasis\"/>\n",
    "\t\t</w:rPr>\n",
    "\t\t\t<w:t>world!</w:t>\n",
    "\t\t</w:r>\n",
    "\t</w:p>\n",
    "\"\"\"\n",
    "\n",
    "# Parse the XML string\n",
    "root = parse_xml(xml_string)\n",
    "\n",
    "# Append the root to the element of the document\n",
    "doc.element.body.append(root)\n",
    "\n",
    "# Save the document\n",
    "doc.save('test.docx')"
   ]
  }
 ],
 "metadata": {
  "kernelspec": {
   "display_name": "vpy38",
   "language": "python",
   "name": "python3"
  },
  "language_info": {
   "codemirror_mode": {
    "name": "ipython",
    "version": 3
   },
   "file_extension": ".py",
   "mimetype": "text/x-python",
   "name": "python",
   "nbconvert_exporter": "python",
   "pygments_lexer": "ipython3",
   "version": "3.8.10"
  }
 },
 "nbformat": 4,
 "nbformat_minor": 2
}
