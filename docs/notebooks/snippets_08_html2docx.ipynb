{
 "cells": [
  {
   "attachments": {},
   "cell_type": "markdown",
   "metadata": {},
   "source": [
    "# Applying python-docx to HTML content"
   ]
  },
  {
   "cell_type": "code",
   "execution_count": 10,
   "metadata": {},
   "outputs": [],
   "source": [
    "# https://github.com/dfop02/html4docx/blob/main/html4docx/h4d.py\n",
    "\n",
    "import requests\n",
    "import re\n",
    "from bs4 import BeautifulSoup\n",
    "from docx import Document\n",
    "from docx.enum.table import WD_TABLE_ALIGNMENT\n",
    "\n",
    "docx = Document()\n",
    "\n",
    "def getHTMLdocument(url):\n",
    "    response = requests.get(url)\n",
    "    return response.text\n",
    "\n",
    "def add_paragraph_style(paragraph, style):\n",
    "    paragraph.style = docx.styles[style]"
   ]
  },
  {
   "cell_type": "code",
   "execution_count": 11,
   "metadata": {},
   "outputs": [],
   "source": [
    "url_to_scrape = \"https://www.sntl-publishing.com/neues/arbeitsmedizin/\"\n",
    "html_document = getHTMLdocument(url_to_scrape)\n",
    "html_document = re.sub(r'<!.*?->','', html_document)\n",
    "soup = BeautifulSoup(html_document, 'html.parser')\n",
    "content = soup.find('section',attrs={'class':'g-py-50'})"
   ]
  },
  {
   "cell_type": "code",
   "execution_count": 12,
   "metadata": {},
   "outputs": [],
   "source": [
    "divs = content.find_all(\"div\")\n",
    "for div in divs:\n",
    "\tdiv.unwrap()\n",
    "\n",
    "a_elements = content.find_all('a',attrs={'class':'fancybox'})\n",
    "for a_element in a_elements:\n",
    "\ta_element.unwrap()"
   ]
  },
  {
   "cell_type": "code",
   "execution_count": 13,
   "metadata": {},
   "outputs": [],
   "source": [
    "# [e for e in content]"
   ]
  },
  {
   "cell_type": "code",
   "execution_count": 14,
   "metadata": {},
   "outputs": [],
   "source": [
    "for element in content:\n",
    "\tif element.name == 'title':\n",
    "\t\tdocx.core_properties.title = element.get_text()\n",
    "\tif element.name in ['h1', 'h2', 'h3', 'h4', 'h5', 'h6']:\n",
    "\t\theading_level = int(element.name[1])\n",
    "\t\tdocx.add_heading(element.text, level=2)\n",
    "\tif element.name == 'p':\n",
    "\t\tif element.has_attr('class'):\n",
    "\t\t\tif 'caption' in element['class']:\n",
    "\t\t\t\tdocx.add_paragraph(element.text, style='Caption')\n",
    "\t\t\telse:\n",
    "\t\t\t\tdocx.add_paragraph(element.text)\n",
    "\t\tdocx.add_paragraph(element.text)\n",
    "\tif element.name == 'ul':\n",
    "\t\tfor li in element.find_all('li'):\n",
    "\t\t\tdocx.add_paragraph(li.text, style='ListBullet')\n",
    "\tif element.name == 'table':\n",
    "\t\ttable = docx.add_table(rows=1, cols=1)\n",
    "\t\ttable.style = 'Table Grid'\n",
    "\t\ttable.alignment = WD_TABLE_ALIGNMENT.CENTER\n",
    "\t\tfor row in element.find_all('tr'):\n",
    "\t\t\tcells = row.find_all(['td','th'])\n",
    "\t\t\ttable.add_row()\n",
    "\t\t\tfor i, cell in enumerate(cells):\n",
    "\t\t\t\ttable.cell(i,0).text = cell.text\n",
    "\tif element.name == 'img':\n",
    "\t\tif element.has_attr('src'):\n",
    "\t\t\timg_name = element['src'].split('/')[-1]\n",
    "\t\t\tif not element['src'].startswith('http'):\n",
    "\t\t\t\telement['src'] = 'https://www.sntl-publishing.com' + element['src']\n",
    "\t\ttry:\n",
    "\t\t\tresponse = requests.get(element['src'])\n",
    "\t\t\twith open(img_name, 'wb') as f:\n",
    "\t\t\t\tf.write(response.content)\n",
    "\t\t\tdocx.add_picture(img_name)\n",
    "\t\texcept:\n",
    "\t\t\tpass\n",
    "\n",
    "docx.save('demo.docx')"
   ]
  }
 ],
 "metadata": {
  "kernelspec": {
   "display_name": "vpy38",
   "language": "python",
   "name": "python3"
  },
  "language_info": {
   "codemirror_mode": {
    "name": "ipython",
    "version": 3
   },
   "file_extension": ".py",
   "mimetype": "text/x-python",
   "name": "python",
   "nbconvert_exporter": "python",
   "pygments_lexer": "ipython3",
   "version": "3.8.10"
  },
  "orig_nbformat": 4
 },
 "nbformat": 4,
 "nbformat_minor": 2
}
